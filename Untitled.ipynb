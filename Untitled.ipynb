{
 "cells": [
  {
   "cell_type": "markdown",
   "metadata": {},
   "source": [
    "## Articulo 1: \"Python: 7 Important Reasons Why You Should Use Python\"\n",
    "\n",
    "En este articulo nos mencionan 7 razones por las cuales deber usar python las cuales resumire en los siguientes puntos: \n",
    "1. Menciona que python al ser un codigo legible y mantenible, este puede evitar generar codigo adicional.\n",
    "2. Comenta que sus características de lenguaje admiten varios conceptos en programación funcional y orientada a aspectos. Al mismo tiempo, Python también cuenta con un sistema de tipo dinámico y administración automática de memoria.\n",
    "3. Python permite ejecutar el mismo código en múltiples plataformas sin tener que volver a compilarlo\n",
    "4. Su extensa biblioteca de modulos.\n",
    "5. Python le ayuda a reducir significativamente los costos de desarrollo de software.\n",
    "6. Python está diseñado con funciones para facilitar el análisis y la visualización de datos. Puede aprovechar las funciones de análisis de datos de Python para crear soluciones de big data personalizadas sin dedicar tiempo y esfuerzo adicionales.\n",
    "7. Puede utilizar Python para crear un prototipo de la aplicación de software rápidamente.\n",
    "\n",
    "## Articulo 2: \"Python is becoming the world’s most popular coding language\"\n",
    "\n",
    "Nos cuenta en general el porque Python esta ganando tanta popularidad, y esto se debe a una gran variedad de razones, comenzando por su simplicidad y flexibilidad, esto permite al usuario aprender de una forma mas sencilla, muchas empresas usan Python con fines especificos pero utiles, debido a que tiene tan buenas reseñas de los usuarios esto creo una especie de marketing silencioso en la que los usuarios van recomendando a nuevos usuarios el lenguaje de Python.\n",
    "Hay que dejar muy en claro que Python no reemplazara a ninguno de los anteriores lenguajes de programacion como Java, C++, etc. Por que estos cumplen fines especificos que Python no, igualmente vemos que el uso de Python en profesionistas ha decaido un poco, dando indicios de una posible disminucion de crecimiento..\n"
   ]
  }
 ],
 "metadata": {
  "kernelspec": {
   "display_name": "Python 3",
   "language": "python",
   "name": "python3"
  },
  "language_info": {
   "codemirror_mode": {
    "name": "ipython",
    "version": 3
   },
   "file_extension": ".py",
   "mimetype": "text/x-python",
   "name": "python",
   "nbconvert_exporter": "python",
   "pygments_lexer": "ipython3",
   "version": "3.8.3"
  }
 },
 "nbformat": 4,
 "nbformat_minor": 4
}
